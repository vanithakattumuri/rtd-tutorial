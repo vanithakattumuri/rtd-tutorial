{
 "cells": [
  {
   "cell_type": "code",
   "execution_count": null,
   "id": "7c222266-89d0-4b97-9425-ccef3ed9cf2b",
   "metadata": {},
   "outputs": [],
   "source": [
    "import plotly.express as px\n",
    "import pandas as pd\n",
    "\n",
    "def station_Info(data, lat_col, lon_col, hover_name_col, color_col, zoom=5, height=500):\n",
    "    \"\"\"\n",
    "        Initialize the station_Info object with the given csv_file\n",
    "        \n",
    "        Args:\n",
    "        data (str): The path to the input CSV file\n",
    "        lat_col (dataFrame): A DataFrame that stores latitude points.\n",
    "        lon_col (dataFrame): A DataFrame that stores longitude points.\n",
    "        hover_name_col (dataFrame): A DataFrame that contains hover names in the data.\n",
    "        color_col (dataFrame): A DataFrame that contains color information.\n",
    "        zoom (float): The user specified zoom level.\n",
    "        height (float): The user specified height of the plot.\n",
    "        \n",
    "    \"\"\"\n",
    "    # Convert the data into a DataFrame\n",
    "    df = pd.DataFrame({lon_col: data[lon_col], lat_col: data[lat_col], hover_name_col: data[hover_name_col], color_col: data[color_col]})\n",
    "    \n",
    "    # Create the scatter mapbox plot\n",
    "    fig = px.scatter_mapbox(df, lat=lon_col, lon=lat_col, hover_name=hover_name_col, color=color_col, zoom=zoom, height=height)\n",
    "    fig.update_layout(mapbox_style=\"open-street-map\")\n",
    "    fig.show()\n",
    "\n",
    "# Create an instance of the station_Info class\n",
    "data = pd.read_csv(r'/home/vanitha/Binder/station_Info.csv')\n",
    "\n",
    "# Separating the longitudes and latitudes\n",
    "d = data.Location.str.split(' ', expand=True)\n",
    "d1 = d.replace('[^\\d.]', '', regex=True).astype(float)\n",
    "d1.columns = [\"lat\", \"lon\"]\n",
    "\n",
    "# Adding extra columns to the data\n",
    "df = pd.DataFrame({\"lon\": d1.lon, \"lat\": d1.lat, \"freq\": data.Address, \"col\": data.stationId})\n",
    "\n",
    "# Plot the scatter mapbox using the generic function\n",
    "station_Info(df, \"lat\", \"lon\", \"freq\", \"col\", zoom=5, height=500)\n"
   ]
  }
 ],
 "metadata": {
  "kernelspec": {
   "display_name": "Python 3 (ipykernel)",
   "language": "python",
   "name": "python3"
  },
  "language_info": {
   "codemirror_mode": {
    "name": "ipython",
    "version": 3
   },
   "file_extension": ".py",
   "mimetype": "text/x-python",
   "name": "python",
   "nbconvert_exporter": "python",
   "pygments_lexer": "ipython3",
   "version": "3.10.4"
  }
 },
 "nbformat": 4,
 "nbformat_minor": 5
}
